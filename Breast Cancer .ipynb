{
 "cells": [
  {
   "cell_type": "code",
   "execution_count": 1,
   "metadata": {},
   "outputs": [],
   "source": [
    "# By Calambur Ajay\n",
    "import numpy as np\n",
    "import matplotlib.pyplot as plt\n",
    "import pandas as pd\n",
    "import seaborn as sns"
   ]
  },
  {
   "cell_type": "code",
   "execution_count": 2,
   "metadata": {},
   "outputs": [],
   "source": [
    "data=pd.read_csv('C:\\\\Users\\\\Ajay\\\\Desktop\\\\internship\\\\data.csv')"
   ]
  },
  {
   "cell_type": "code",
   "execution_count": 5,
   "metadata": {},
   "outputs": [
    {
     "data": {
      "text/html": [
       "<div>\n",
       "<style scoped>\n",
       "    .dataframe tbody tr th:only-of-type {\n",
       "        vertical-align: middle;\n",
       "    }\n",
       "\n",
       "    .dataframe tbody tr th {\n",
       "        vertical-align: top;\n",
       "    }\n",
       "\n",
       "    .dataframe thead th {\n",
       "        text-align: right;\n",
       "    }\n",
       "</style>\n",
       "<table border=\"1\" class=\"dataframe\">\n",
       "  <thead>\n",
       "    <tr style=\"text-align: right;\">\n",
       "      <th></th>\n",
       "      <th>id</th>\n",
       "      <th>diagnosis</th>\n",
       "      <th>radius_mean</th>\n",
       "      <th>texture_mean</th>\n",
       "      <th>perimeter_mean</th>\n",
       "      <th>area_mean</th>\n",
       "      <th>smoothness_mean</th>\n",
       "      <th>compactness_mean</th>\n",
       "      <th>concavity_mean</th>\n",
       "      <th>concave points_mean</th>\n",
       "      <th>...</th>\n",
       "      <th>texture_worst</th>\n",
       "      <th>perimeter_worst</th>\n",
       "      <th>area_worst</th>\n",
       "      <th>smoothness_worst</th>\n",
       "      <th>compactness_worst</th>\n",
       "      <th>concavity_worst</th>\n",
       "      <th>concave points_worst</th>\n",
       "      <th>symmetry_worst</th>\n",
       "      <th>fractal_dimension_worst</th>\n",
       "      <th>Unnamed: 32</th>\n",
       "    </tr>\n",
       "  </thead>\n",
       "  <tbody>\n",
       "    <tr>\n",
       "      <td>0</td>\n",
       "      <td>842302</td>\n",
       "      <td>M</td>\n",
       "      <td>17.99</td>\n",
       "      <td>10.38</td>\n",
       "      <td>122.80</td>\n",
       "      <td>1001.0</td>\n",
       "      <td>0.11840</td>\n",
       "      <td>0.27760</td>\n",
       "      <td>0.3001</td>\n",
       "      <td>0.14710</td>\n",
       "      <td>...</td>\n",
       "      <td>17.33</td>\n",
       "      <td>184.60</td>\n",
       "      <td>2019.0</td>\n",
       "      <td>0.1622</td>\n",
       "      <td>0.6656</td>\n",
       "      <td>0.7119</td>\n",
       "      <td>0.2654</td>\n",
       "      <td>0.4601</td>\n",
       "      <td>0.11890</td>\n",
       "      <td>NaN</td>\n",
       "    </tr>\n",
       "    <tr>\n",
       "      <td>1</td>\n",
       "      <td>842517</td>\n",
       "      <td>M</td>\n",
       "      <td>20.57</td>\n",
       "      <td>17.77</td>\n",
       "      <td>132.90</td>\n",
       "      <td>1326.0</td>\n",
       "      <td>0.08474</td>\n",
       "      <td>0.07864</td>\n",
       "      <td>0.0869</td>\n",
       "      <td>0.07017</td>\n",
       "      <td>...</td>\n",
       "      <td>23.41</td>\n",
       "      <td>158.80</td>\n",
       "      <td>1956.0</td>\n",
       "      <td>0.1238</td>\n",
       "      <td>0.1866</td>\n",
       "      <td>0.2416</td>\n",
       "      <td>0.1860</td>\n",
       "      <td>0.2750</td>\n",
       "      <td>0.08902</td>\n",
       "      <td>NaN</td>\n",
       "    </tr>\n",
       "    <tr>\n",
       "      <td>2</td>\n",
       "      <td>84300903</td>\n",
       "      <td>M</td>\n",
       "      <td>19.69</td>\n",
       "      <td>21.25</td>\n",
       "      <td>130.00</td>\n",
       "      <td>1203.0</td>\n",
       "      <td>0.10960</td>\n",
       "      <td>0.15990</td>\n",
       "      <td>0.1974</td>\n",
       "      <td>0.12790</td>\n",
       "      <td>...</td>\n",
       "      <td>25.53</td>\n",
       "      <td>152.50</td>\n",
       "      <td>1709.0</td>\n",
       "      <td>0.1444</td>\n",
       "      <td>0.4245</td>\n",
       "      <td>0.4504</td>\n",
       "      <td>0.2430</td>\n",
       "      <td>0.3613</td>\n",
       "      <td>0.08758</td>\n",
       "      <td>NaN</td>\n",
       "    </tr>\n",
       "    <tr>\n",
       "      <td>3</td>\n",
       "      <td>84348301</td>\n",
       "      <td>M</td>\n",
       "      <td>11.42</td>\n",
       "      <td>20.38</td>\n",
       "      <td>77.58</td>\n",
       "      <td>386.1</td>\n",
       "      <td>0.14250</td>\n",
       "      <td>0.28390</td>\n",
       "      <td>0.2414</td>\n",
       "      <td>0.10520</td>\n",
       "      <td>...</td>\n",
       "      <td>26.50</td>\n",
       "      <td>98.87</td>\n",
       "      <td>567.7</td>\n",
       "      <td>0.2098</td>\n",
       "      <td>0.8663</td>\n",
       "      <td>0.6869</td>\n",
       "      <td>0.2575</td>\n",
       "      <td>0.6638</td>\n",
       "      <td>0.17300</td>\n",
       "      <td>NaN</td>\n",
       "    </tr>\n",
       "    <tr>\n",
       "      <td>4</td>\n",
       "      <td>84358402</td>\n",
       "      <td>M</td>\n",
       "      <td>20.29</td>\n",
       "      <td>14.34</td>\n",
       "      <td>135.10</td>\n",
       "      <td>1297.0</td>\n",
       "      <td>0.10030</td>\n",
       "      <td>0.13280</td>\n",
       "      <td>0.1980</td>\n",
       "      <td>0.10430</td>\n",
       "      <td>...</td>\n",
       "      <td>16.67</td>\n",
       "      <td>152.20</td>\n",
       "      <td>1575.0</td>\n",
       "      <td>0.1374</td>\n",
       "      <td>0.2050</td>\n",
       "      <td>0.4000</td>\n",
       "      <td>0.1625</td>\n",
       "      <td>0.2364</td>\n",
       "      <td>0.07678</td>\n",
       "      <td>NaN</td>\n",
       "    </tr>\n",
       "  </tbody>\n",
       "</table>\n",
       "<p>5 rows × 33 columns</p>\n",
       "</div>"
      ],
      "text/plain": [
       "         id diagnosis  radius_mean  texture_mean  perimeter_mean  area_mean  \\\n",
       "0    842302         M        17.99         10.38          122.80     1001.0   \n",
       "1    842517         M        20.57         17.77          132.90     1326.0   \n",
       "2  84300903         M        19.69         21.25          130.00     1203.0   \n",
       "3  84348301         M        11.42         20.38           77.58      386.1   \n",
       "4  84358402         M        20.29         14.34          135.10     1297.0   \n",
       "\n",
       "   smoothness_mean  compactness_mean  concavity_mean  concave points_mean  \\\n",
       "0          0.11840           0.27760          0.3001              0.14710   \n",
       "1          0.08474           0.07864          0.0869              0.07017   \n",
       "2          0.10960           0.15990          0.1974              0.12790   \n",
       "3          0.14250           0.28390          0.2414              0.10520   \n",
       "4          0.10030           0.13280          0.1980              0.10430   \n",
       "\n",
       "   ...  texture_worst  perimeter_worst  area_worst  smoothness_worst  \\\n",
       "0  ...          17.33           184.60      2019.0            0.1622   \n",
       "1  ...          23.41           158.80      1956.0            0.1238   \n",
       "2  ...          25.53           152.50      1709.0            0.1444   \n",
       "3  ...          26.50            98.87       567.7            0.2098   \n",
       "4  ...          16.67           152.20      1575.0            0.1374   \n",
       "\n",
       "   compactness_worst  concavity_worst  concave points_worst  symmetry_worst  \\\n",
       "0             0.6656           0.7119                0.2654          0.4601   \n",
       "1             0.1866           0.2416                0.1860          0.2750   \n",
       "2             0.4245           0.4504                0.2430          0.3613   \n",
       "3             0.8663           0.6869                0.2575          0.6638   \n",
       "4             0.2050           0.4000                0.1625          0.2364   \n",
       "\n",
       "   fractal_dimension_worst  Unnamed: 32  \n",
       "0                  0.11890          NaN  \n",
       "1                  0.08902          NaN  \n",
       "2                  0.08758          NaN  \n",
       "3                  0.17300          NaN  \n",
       "4                  0.07678          NaN  \n",
       "\n",
       "[5 rows x 33 columns]"
      ]
     },
     "execution_count": 5,
     "metadata": {},
     "output_type": "execute_result"
    }
   ],
   "source": [
    "data.head()"
   ]
  },
  {
   "cell_type": "code",
   "execution_count": 6,
   "metadata": {},
   "outputs": [
    {
     "data": {
      "text/plain": [
       "(569, 33)"
      ]
     },
     "execution_count": 6,
     "metadata": {},
     "output_type": "execute_result"
    }
   ],
   "source": [
    "data.shape"
   ]
  },
  {
   "cell_type": "code",
   "execution_count": 7,
   "metadata": {},
   "outputs": [
    {
     "data": {
      "text/html": [
       "<div>\n",
       "<style scoped>\n",
       "    .dataframe tbody tr th:only-of-type {\n",
       "        vertical-align: middle;\n",
       "    }\n",
       "\n",
       "    .dataframe tbody tr th {\n",
       "        vertical-align: top;\n",
       "    }\n",
       "\n",
       "    .dataframe thead th {\n",
       "        text-align: right;\n",
       "    }\n",
       "</style>\n",
       "<table border=\"1\" class=\"dataframe\">\n",
       "  <thead>\n",
       "    <tr style=\"text-align: right;\">\n",
       "      <th></th>\n",
       "      <th>id</th>\n",
       "      <th>diagnosis</th>\n",
       "      <th>radius_mean</th>\n",
       "      <th>texture_mean</th>\n",
       "      <th>perimeter_mean</th>\n",
       "      <th>area_mean</th>\n",
       "      <th>smoothness_mean</th>\n",
       "      <th>compactness_mean</th>\n",
       "      <th>concavity_mean</th>\n",
       "      <th>concave points_mean</th>\n",
       "      <th>...</th>\n",
       "      <th>texture_worst</th>\n",
       "      <th>perimeter_worst</th>\n",
       "      <th>area_worst</th>\n",
       "      <th>smoothness_worst</th>\n",
       "      <th>compactness_worst</th>\n",
       "      <th>concavity_worst</th>\n",
       "      <th>concave points_worst</th>\n",
       "      <th>symmetry_worst</th>\n",
       "      <th>fractal_dimension_worst</th>\n",
       "      <th>Unnamed: 32</th>\n",
       "    </tr>\n",
       "  </thead>\n",
       "  <tbody>\n",
       "    <tr>\n",
       "      <td>count</td>\n",
       "      <td>5.690000e+02</td>\n",
       "      <td>569</td>\n",
       "      <td>569.000000</td>\n",
       "      <td>569.000000</td>\n",
       "      <td>569.000000</td>\n",
       "      <td>569.000000</td>\n",
       "      <td>569.000000</td>\n",
       "      <td>569.000000</td>\n",
       "      <td>569.000000</td>\n",
       "      <td>569.000000</td>\n",
       "      <td>...</td>\n",
       "      <td>569.000000</td>\n",
       "      <td>569.000000</td>\n",
       "      <td>569.000000</td>\n",
       "      <td>569.000000</td>\n",
       "      <td>569.000000</td>\n",
       "      <td>569.000000</td>\n",
       "      <td>569.000000</td>\n",
       "      <td>569.000000</td>\n",
       "      <td>569.000000</td>\n",
       "      <td>0.0</td>\n",
       "    </tr>\n",
       "    <tr>\n",
       "      <td>unique</td>\n",
       "      <td>NaN</td>\n",
       "      <td>2</td>\n",
       "      <td>NaN</td>\n",
       "      <td>NaN</td>\n",
       "      <td>NaN</td>\n",
       "      <td>NaN</td>\n",
       "      <td>NaN</td>\n",
       "      <td>NaN</td>\n",
       "      <td>NaN</td>\n",
       "      <td>NaN</td>\n",
       "      <td>...</td>\n",
       "      <td>NaN</td>\n",
       "      <td>NaN</td>\n",
       "      <td>NaN</td>\n",
       "      <td>NaN</td>\n",
       "      <td>NaN</td>\n",
       "      <td>NaN</td>\n",
       "      <td>NaN</td>\n",
       "      <td>NaN</td>\n",
       "      <td>NaN</td>\n",
       "      <td>NaN</td>\n",
       "    </tr>\n",
       "    <tr>\n",
       "      <td>top</td>\n",
       "      <td>NaN</td>\n",
       "      <td>B</td>\n",
       "      <td>NaN</td>\n",
       "      <td>NaN</td>\n",
       "      <td>NaN</td>\n",
       "      <td>NaN</td>\n",
       "      <td>NaN</td>\n",
       "      <td>NaN</td>\n",
       "      <td>NaN</td>\n",
       "      <td>NaN</td>\n",
       "      <td>...</td>\n",
       "      <td>NaN</td>\n",
       "      <td>NaN</td>\n",
       "      <td>NaN</td>\n",
       "      <td>NaN</td>\n",
       "      <td>NaN</td>\n",
       "      <td>NaN</td>\n",
       "      <td>NaN</td>\n",
       "      <td>NaN</td>\n",
       "      <td>NaN</td>\n",
       "      <td>NaN</td>\n",
       "    </tr>\n",
       "    <tr>\n",
       "      <td>freq</td>\n",
       "      <td>NaN</td>\n",
       "      <td>357</td>\n",
       "      <td>NaN</td>\n",
       "      <td>NaN</td>\n",
       "      <td>NaN</td>\n",
       "      <td>NaN</td>\n",
       "      <td>NaN</td>\n",
       "      <td>NaN</td>\n",
       "      <td>NaN</td>\n",
       "      <td>NaN</td>\n",
       "      <td>...</td>\n",
       "      <td>NaN</td>\n",
       "      <td>NaN</td>\n",
       "      <td>NaN</td>\n",
       "      <td>NaN</td>\n",
       "      <td>NaN</td>\n",
       "      <td>NaN</td>\n",
       "      <td>NaN</td>\n",
       "      <td>NaN</td>\n",
       "      <td>NaN</td>\n",
       "      <td>NaN</td>\n",
       "    </tr>\n",
       "    <tr>\n",
       "      <td>mean</td>\n",
       "      <td>3.037183e+07</td>\n",
       "      <td>NaN</td>\n",
       "      <td>14.127292</td>\n",
       "      <td>19.289649</td>\n",
       "      <td>91.969033</td>\n",
       "      <td>654.889104</td>\n",
       "      <td>0.096360</td>\n",
       "      <td>0.104341</td>\n",
       "      <td>0.088799</td>\n",
       "      <td>0.048919</td>\n",
       "      <td>...</td>\n",
       "      <td>25.677223</td>\n",
       "      <td>107.261213</td>\n",
       "      <td>880.583128</td>\n",
       "      <td>0.132369</td>\n",
       "      <td>0.254265</td>\n",
       "      <td>0.272188</td>\n",
       "      <td>0.114606</td>\n",
       "      <td>0.290076</td>\n",
       "      <td>0.083946</td>\n",
       "      <td>NaN</td>\n",
       "    </tr>\n",
       "    <tr>\n",
       "      <td>std</td>\n",
       "      <td>1.250206e+08</td>\n",
       "      <td>NaN</td>\n",
       "      <td>3.524049</td>\n",
       "      <td>4.301036</td>\n",
       "      <td>24.298981</td>\n",
       "      <td>351.914129</td>\n",
       "      <td>0.014064</td>\n",
       "      <td>0.052813</td>\n",
       "      <td>0.079720</td>\n",
       "      <td>0.038803</td>\n",
       "      <td>...</td>\n",
       "      <td>6.146258</td>\n",
       "      <td>33.602542</td>\n",
       "      <td>569.356993</td>\n",
       "      <td>0.022832</td>\n",
       "      <td>0.157336</td>\n",
       "      <td>0.208624</td>\n",
       "      <td>0.065732</td>\n",
       "      <td>0.061867</td>\n",
       "      <td>0.018061</td>\n",
       "      <td>NaN</td>\n",
       "    </tr>\n",
       "    <tr>\n",
       "      <td>min</td>\n",
       "      <td>8.670000e+03</td>\n",
       "      <td>NaN</td>\n",
       "      <td>6.981000</td>\n",
       "      <td>9.710000</td>\n",
       "      <td>43.790000</td>\n",
       "      <td>143.500000</td>\n",
       "      <td>0.052630</td>\n",
       "      <td>0.019380</td>\n",
       "      <td>0.000000</td>\n",
       "      <td>0.000000</td>\n",
       "      <td>...</td>\n",
       "      <td>12.020000</td>\n",
       "      <td>50.410000</td>\n",
       "      <td>185.200000</td>\n",
       "      <td>0.071170</td>\n",
       "      <td>0.027290</td>\n",
       "      <td>0.000000</td>\n",
       "      <td>0.000000</td>\n",
       "      <td>0.156500</td>\n",
       "      <td>0.055040</td>\n",
       "      <td>NaN</td>\n",
       "    </tr>\n",
       "    <tr>\n",
       "      <td>25%</td>\n",
       "      <td>8.692180e+05</td>\n",
       "      <td>NaN</td>\n",
       "      <td>11.700000</td>\n",
       "      <td>16.170000</td>\n",
       "      <td>75.170000</td>\n",
       "      <td>420.300000</td>\n",
       "      <td>0.086370</td>\n",
       "      <td>0.064920</td>\n",
       "      <td>0.029560</td>\n",
       "      <td>0.020310</td>\n",
       "      <td>...</td>\n",
       "      <td>21.080000</td>\n",
       "      <td>84.110000</td>\n",
       "      <td>515.300000</td>\n",
       "      <td>0.116600</td>\n",
       "      <td>0.147200</td>\n",
       "      <td>0.114500</td>\n",
       "      <td>0.064930</td>\n",
       "      <td>0.250400</td>\n",
       "      <td>0.071460</td>\n",
       "      <td>NaN</td>\n",
       "    </tr>\n",
       "    <tr>\n",
       "      <td>50%</td>\n",
       "      <td>9.060240e+05</td>\n",
       "      <td>NaN</td>\n",
       "      <td>13.370000</td>\n",
       "      <td>18.840000</td>\n",
       "      <td>86.240000</td>\n",
       "      <td>551.100000</td>\n",
       "      <td>0.095870</td>\n",
       "      <td>0.092630</td>\n",
       "      <td>0.061540</td>\n",
       "      <td>0.033500</td>\n",
       "      <td>...</td>\n",
       "      <td>25.410000</td>\n",
       "      <td>97.660000</td>\n",
       "      <td>686.500000</td>\n",
       "      <td>0.131300</td>\n",
       "      <td>0.211900</td>\n",
       "      <td>0.226700</td>\n",
       "      <td>0.099930</td>\n",
       "      <td>0.282200</td>\n",
       "      <td>0.080040</td>\n",
       "      <td>NaN</td>\n",
       "    </tr>\n",
       "    <tr>\n",
       "      <td>75%</td>\n",
       "      <td>8.813129e+06</td>\n",
       "      <td>NaN</td>\n",
       "      <td>15.780000</td>\n",
       "      <td>21.800000</td>\n",
       "      <td>104.100000</td>\n",
       "      <td>782.700000</td>\n",
       "      <td>0.105300</td>\n",
       "      <td>0.130400</td>\n",
       "      <td>0.130700</td>\n",
       "      <td>0.074000</td>\n",
       "      <td>...</td>\n",
       "      <td>29.720000</td>\n",
       "      <td>125.400000</td>\n",
       "      <td>1084.000000</td>\n",
       "      <td>0.146000</td>\n",
       "      <td>0.339100</td>\n",
       "      <td>0.382900</td>\n",
       "      <td>0.161400</td>\n",
       "      <td>0.317900</td>\n",
       "      <td>0.092080</td>\n",
       "      <td>NaN</td>\n",
       "    </tr>\n",
       "    <tr>\n",
       "      <td>max</td>\n",
       "      <td>9.113205e+08</td>\n",
       "      <td>NaN</td>\n",
       "      <td>28.110000</td>\n",
       "      <td>39.280000</td>\n",
       "      <td>188.500000</td>\n",
       "      <td>2501.000000</td>\n",
       "      <td>0.163400</td>\n",
       "      <td>0.345400</td>\n",
       "      <td>0.426800</td>\n",
       "      <td>0.201200</td>\n",
       "      <td>...</td>\n",
       "      <td>49.540000</td>\n",
       "      <td>251.200000</td>\n",
       "      <td>4254.000000</td>\n",
       "      <td>0.222600</td>\n",
       "      <td>1.058000</td>\n",
       "      <td>1.252000</td>\n",
       "      <td>0.291000</td>\n",
       "      <td>0.663800</td>\n",
       "      <td>0.207500</td>\n",
       "      <td>NaN</td>\n",
       "    </tr>\n",
       "  </tbody>\n",
       "</table>\n",
       "<p>11 rows × 33 columns</p>\n",
       "</div>"
      ],
      "text/plain": [
       "                  id diagnosis  radius_mean  texture_mean  perimeter_mean  \\\n",
       "count   5.690000e+02       569   569.000000    569.000000      569.000000   \n",
       "unique           NaN         2          NaN           NaN             NaN   \n",
       "top              NaN         B          NaN           NaN             NaN   \n",
       "freq             NaN       357          NaN           NaN             NaN   \n",
       "mean    3.037183e+07       NaN    14.127292     19.289649       91.969033   \n",
       "std     1.250206e+08       NaN     3.524049      4.301036       24.298981   \n",
       "min     8.670000e+03       NaN     6.981000      9.710000       43.790000   \n",
       "25%     8.692180e+05       NaN    11.700000     16.170000       75.170000   \n",
       "50%     9.060240e+05       NaN    13.370000     18.840000       86.240000   \n",
       "75%     8.813129e+06       NaN    15.780000     21.800000      104.100000   \n",
       "max     9.113205e+08       NaN    28.110000     39.280000      188.500000   \n",
       "\n",
       "          area_mean  smoothness_mean  compactness_mean  concavity_mean  \\\n",
       "count    569.000000       569.000000        569.000000      569.000000   \n",
       "unique          NaN              NaN               NaN             NaN   \n",
       "top             NaN              NaN               NaN             NaN   \n",
       "freq            NaN              NaN               NaN             NaN   \n",
       "mean     654.889104         0.096360          0.104341        0.088799   \n",
       "std      351.914129         0.014064          0.052813        0.079720   \n",
       "min      143.500000         0.052630          0.019380        0.000000   \n",
       "25%      420.300000         0.086370          0.064920        0.029560   \n",
       "50%      551.100000         0.095870          0.092630        0.061540   \n",
       "75%      782.700000         0.105300          0.130400        0.130700   \n",
       "max     2501.000000         0.163400          0.345400        0.426800   \n",
       "\n",
       "        concave points_mean  ...  texture_worst  perimeter_worst   area_worst  \\\n",
       "count            569.000000  ...     569.000000       569.000000   569.000000   \n",
       "unique                  NaN  ...            NaN              NaN          NaN   \n",
       "top                     NaN  ...            NaN              NaN          NaN   \n",
       "freq                    NaN  ...            NaN              NaN          NaN   \n",
       "mean               0.048919  ...      25.677223       107.261213   880.583128   \n",
       "std                0.038803  ...       6.146258        33.602542   569.356993   \n",
       "min                0.000000  ...      12.020000        50.410000   185.200000   \n",
       "25%                0.020310  ...      21.080000        84.110000   515.300000   \n",
       "50%                0.033500  ...      25.410000        97.660000   686.500000   \n",
       "75%                0.074000  ...      29.720000       125.400000  1084.000000   \n",
       "max                0.201200  ...      49.540000       251.200000  4254.000000   \n",
       "\n",
       "        smoothness_worst  compactness_worst  concavity_worst  \\\n",
       "count         569.000000         569.000000       569.000000   \n",
       "unique               NaN                NaN              NaN   \n",
       "top                  NaN                NaN              NaN   \n",
       "freq                 NaN                NaN              NaN   \n",
       "mean            0.132369           0.254265         0.272188   \n",
       "std             0.022832           0.157336         0.208624   \n",
       "min             0.071170           0.027290         0.000000   \n",
       "25%             0.116600           0.147200         0.114500   \n",
       "50%             0.131300           0.211900         0.226700   \n",
       "75%             0.146000           0.339100         0.382900   \n",
       "max             0.222600           1.058000         1.252000   \n",
       "\n",
       "        concave points_worst  symmetry_worst  fractal_dimension_worst  \\\n",
       "count             569.000000      569.000000               569.000000   \n",
       "unique                   NaN             NaN                      NaN   \n",
       "top                      NaN             NaN                      NaN   \n",
       "freq                     NaN             NaN                      NaN   \n",
       "mean                0.114606        0.290076                 0.083946   \n",
       "std                 0.065732        0.061867                 0.018061   \n",
       "min                 0.000000        0.156500                 0.055040   \n",
       "25%                 0.064930        0.250400                 0.071460   \n",
       "50%                 0.099930        0.282200                 0.080040   \n",
       "75%                 0.161400        0.317900                 0.092080   \n",
       "max                 0.291000        0.663800                 0.207500   \n",
       "\n",
       "        Unnamed: 32  \n",
       "count           0.0  \n",
       "unique          NaN  \n",
       "top             NaN  \n",
       "freq            NaN  \n",
       "mean            NaN  \n",
       "std             NaN  \n",
       "min             NaN  \n",
       "25%             NaN  \n",
       "50%             NaN  \n",
       "75%             NaN  \n",
       "max             NaN  \n",
       "\n",
       "[11 rows x 33 columns]"
      ]
     },
     "execution_count": 7,
     "metadata": {},
     "output_type": "execute_result"
    }
   ],
   "source": [
    "data.describe(include='all')"
   ]
  },
  {
   "cell_type": "code",
   "execution_count": 58,
   "metadata": {},
   "outputs": [
    {
     "name": "stdout",
     "output_type": "stream",
     "text": [
      "id -----------> 30371831.432337433\n",
      "radius_mean -----------> 14.127291739894563\n",
      "texture_mean -----------> 19.28964850615117\n",
      "perimeter_mean -----------> 91.96903339191566\n",
      "area_mean -----------> 654.8891036906857\n",
      "smoothness_mean -----------> 0.096360281195079\n",
      "compactness_mean -----------> 0.10434098418277686\n",
      "concavity_mean -----------> 0.08879931581722322\n",
      "concave points_mean -----------> 0.048919145869947236\n",
      "symmetry_mean -----------> 0.181161862917399\n",
      "fractal_dimension_mean -----------> 0.06279760984182776\n",
      "radius_se -----------> 0.4051720562390161\n",
      "texture_se -----------> 1.2168534270650269\n",
      "perimeter_se -----------> 2.8660592267135288\n",
      "area_se -----------> 40.33707908611603\n",
      "smoothness_se -----------> 0.007040978910369071\n",
      "compactness_se -----------> 0.025478138840070306\n",
      "concavity_se -----------> 0.03189371634446394\n",
      "concave points_se -----------> 0.011796137082601056\n",
      "symmetry_se -----------> 0.020542298769771532\n",
      "fractal_dimension_se -----------> 0.0037949038664323374\n",
      "radius_worst -----------> 16.269189806678394\n",
      "texture_worst -----------> 25.677223198594014\n",
      "perimeter_worst -----------> 107.2612126537786\n",
      "area_worst -----------> 880.5831282952545\n",
      "smoothness_worst -----------> 0.13236859402460469\n",
      "compactness_worst -----------> 0.25426504393673144\n",
      "concavity_worst -----------> 0.27218848330404205\n",
      "concave points_worst -----------> 0.11460622319859404\n",
      "symmetry_worst -----------> 0.29007557117750454\n",
      "fractal_dimension_worst -----------> 0.08394581722319855\n",
      "Unnamed: 32 -----------> nan\n"
     ]
    }
   ],
   "source": [
    "cols=list(data.columns)\n",
    "cols.remove('diagnosis')\n",
    "\n",
    "\n",
    "for i in cols:\n",
    "    print(i,'----------->',data[i].mean())"
   ]
  },
  {
   "cell_type": "code",
   "execution_count": 62,
   "metadata": {},
   "outputs": [
    {
     "name": "stdout",
     "output_type": "stream",
     "text": [
      "id ----------> 1.5630146826823346e+16\n",
      "radius_mean ----------> 12.418920129526722\n",
      "texture_mean ----------> 18.49890867905146\n",
      "perimeter_mean ----------> 590.4404795217704\n",
      "area_mean ----------> 123843.55431768113\n",
      "smoothness_mean ----------> 0.00019779970027290278\n",
      "compactness_mean ----------> 0.0027891874004381295\n",
      "concavity_mean ----------> 0.00635524790042313\n",
      "concave points_mean ----------> 0.0015056607691635436\n",
      "symmetry_mean ----------> 0.0007515428211713162\n",
      "fractal_dimension_mean ----------> 4.984872279821283e-05\n",
      "radius_se ----------> 0.07690235187622219\n",
      "texture_se ----------> 0.304315949077143\n",
      "perimeter_se ----------> 4.08789583770081\n",
      "area_se ----------> 2069.4315828687345\n",
      "smoothness_se ----------> 9.015114003075571e-06\n",
      "compactness_se ----------> 0.00032070288676061906\n",
      "concavity_se ----------> 0.0009111982378230951\n",
      "concave points_se ----------> 3.80724191290626e-05\n",
      "symmetry_se ----------> 6.833289825212876e-05\n",
      "fractal_dimension_se ----------> 7.001691562872348e-06\n",
      "radius_worst ----------> 23.360224175177603\n",
      "texture_worst ----------> 37.77648276875665\n",
      "perimeter_worst ----------> 1129.1308469423748\n",
      "area_worst ----------> 324167.38510216837\n",
      "smoothness_worst ----------> 0.0005213198325267952\n",
      "compactness_worst ----------> 0.024754770743704052\n",
      "concavity_worst ----------> 0.04352409045926072\n",
      "concave points_worst ----------> 0.004320740679099743\n",
      "symmetry_worst ----------> 0.0038275835395059285\n",
      "fractal_dimension_worst ----------> 0.00032620937824822397\n",
      "Unnamed: 32 ----------> nan\n"
     ]
    }
   ],
   "source": [
    "import statistics\n",
    "cols=list(data.columns)\n",
    "cols.remove('diagnosis')\n",
    "\n",
    "\n",
    "for i in cols:\n",
    "    print(i,'---------->',statistics.variance(data[i]))"
   ]
  },
  {
   "cell_type": "code",
   "execution_count": 59,
   "metadata": {},
   "outputs": [
    {
     "name": "stdout",
     "output_type": "stream",
     "text": [
      "id ----------> 124910677.38384697\n",
      "radius_mean ----------> 3.5209507607110626\n",
      "texture_mean ----------> 4.297254637090421\n",
      "perimeter_mean ----------> 24.277619293053174\n",
      "area_mean ----------> 351.6047540632298\n",
      "smoothness_mean ----------> 0.014051764066591203\n",
      "compactness_mean ----------> 0.05276632912535516\n",
      "concavity_mean ----------> 0.07964972534603187\n",
      "concave points_mean ----------> 0.03876873246147475\n",
      "symmetry_mean ----------> 0.02739018086426853\n",
      "fractal_dimension_mean ----------> 0.007054155881537344\n",
      "radius_se ----------> 0.27706894152536543\n",
      "texture_se ----------> 0.551163426903576\n",
      "perimeter_se ----------> 2.020077099145524\n",
      "area_se ----------> 45.451013415639935\n",
      "smoothness_se ----------> 0.0029998783671144774\n",
      "compactness_se ----------> 0.017892435868281948\n",
      "concavity_se ----------> 0.030159523121970455\n",
      "concave points_se ----------> 0.006164860746471698\n",
      "symmetry_se ----------> 0.008259104387588137\n",
      "fractal_dimension_se ----------> 0.0026437447504047366\n",
      "radius_worst ----------> 4.828992576060773\n",
      "texture_worst ----------> 6.140854318589003\n",
      "perimeter_worst ----------> 33.57300156682592\n",
      "area_worst ----------> 568.8564589532672\n",
      "smoothness_worst ----------> 0.02281235693554464\n",
      "compactness_worst ----------> 0.15719817109455367\n",
      "concavity_worst ----------> 0.20844087461170607\n",
      "concave points_worst ----------> 0.06567455451119318\n",
      "symmetry_worst ----------> 0.06181307854455482\n",
      "fractal_dimension_worst ----------> 0.018045389308594995\n",
      "Unnamed: 32 ----------> nan\n"
     ]
    }
   ],
   "source": [
    "import statistics\n",
    "cols=list(data.columns)\n",
    "cols.remove('diagnosis')\n",
    "\n",
    "\n",
    "for i in cols:\n",
    "    print(i,'---------->',np.std(data[i]))"
   ]
  },
  {
   "cell_type": "code",
   "execution_count": 66,
   "metadata": {},
   "outputs": [],
   "source": [
    "data_b=data[data['diagnosis']=='B']"
   ]
  },
  {
   "cell_type": "code",
   "execution_count": 67,
   "metadata": {},
   "outputs": [
    {
     "name": "stdout",
     "output_type": "stream",
     "text": [
      "id -----------> 26543824.62464986\n",
      "radius_mean -----------> 12.14652380952381\n",
      "texture_mean -----------> 17.914761904761892\n",
      "perimeter_mean -----------> 78.07540616246497\n",
      "area_mean -----------> 462.79019607843145\n",
      "smoothness_mean -----------> 0.09247764705882357\n",
      "compactness_mean -----------> 0.08008462184873952\n",
      "concavity_mean -----------> 0.04605762100840336\n",
      "concave points_mean -----------> 0.025717406162464995\n",
      "symmetry_mean -----------> 0.1741859943977591\n",
      "fractal_dimension_mean -----------> 0.0628673949579832\n",
      "radius_se -----------> 0.28408235294117645\n",
      "texture_se -----------> 1.2203801120448172\n",
      "perimeter_se -----------> 2.0003212885154085\n",
      "area_se -----------> 21.135148459383736\n",
      "smoothness_se -----------> 0.007195901960784316\n",
      "compactness_se -----------> 0.02143824649859945\n",
      "concavity_se -----------> 0.025996735574229688\n",
      "concave points_se -----------> 0.009857652661064427\n",
      "symmetry_se -----------> 0.02058380672268908\n",
      "fractal_dimension_se -----------> 0.0036360512605041998\n",
      "radius_worst -----------> 13.379801120448189\n",
      "texture_worst -----------> 23.515070028011202\n",
      "perimeter_worst -----------> 87.00593837535018\n",
      "area_worst -----------> 558.8994397759104\n",
      "smoothness_worst -----------> 0.12495949579831929\n",
      "compactness_worst -----------> 0.18267254901960778\n",
      "concavity_worst -----------> 0.1662377226890756\n",
      "concave points_worst -----------> 0.07444434453781515\n",
      "symmetry_worst -----------> 0.27024593837535016\n",
      "fractal_dimension_worst -----------> 0.07944207282913167\n",
      "Unnamed: 32 -----------> nan\n"
     ]
    }
   ],
   "source": [
    "cols=list(data_b.columns)\n",
    "cols.remove('diagnosis')\n",
    "\n",
    "\n",
    "for i in cols:\n",
    "        print(i,'----------->',data_b[i].mean())"
   ]
  },
  {
   "cell_type": "code",
   "execution_count": 68,
   "metadata": {},
   "outputs": [
    {
     "name": "stdout",
     "output_type": "stream",
     "text": [
      "id ----------> 116576046.44263177\n",
      "radius_mean ----------> 1.7780161836026669\n",
      "texture_mean ----------> 3.9895252572260462\n",
      "perimeter_mean ----------> 11.79088895588649\n",
      "area_mean ----------> 134.09890905926832\n",
      "smoothness_mean ----------> 0.013427232082988903\n",
      "compactness_mean ----------> 0.03370265260130136\n",
      "concavity_mean ----------> 0.04338126502909299\n",
      "concave points_mean ----------> 0.01588648155109013\n",
      "symmetry_mean ----------> 0.0247719904837415\n",
      "fractal_dimension_mean ----------> 0.006737886126987802\n",
      "radius_se ----------> 0.11241183708645963\n",
      "texture_se ----------> 0.5883539668709308\n",
      "perimeter_se ----------> 0.7700883763867358\n",
      "area_se ----------> 8.831077544184808\n",
      "smoothness_se ----------> 0.0030563200752134947\n",
      "compactness_se ----------> 0.01632859402421365\n",
      "concavity_se ----------> 0.032872099947737696\n",
      "concave points_se ----------> 0.005700623796750035\n",
      "symmetry_se ----------> 0.006988729964740864\n",
      "fractal_dimension_se ----------> 0.0029341009018181764\n",
      "radius_worst ----------> 1.9785905990796202\n",
      "texture_worst ----------> 5.486254512919563\n",
      "perimeter_worst ----------> 13.508132109327217\n",
      "area_worst ----------> 163.37212955939876\n",
      "smoothness_worst ----------> 0.019985415488269886\n",
      "compactness_worst ----------> 0.09205078544969544\n",
      "concavity_worst ----------> 0.14017100944105462\n",
      "concave points_worst ----------> 0.03574720223902436\n",
      "symmetry_worst ----------> 0.041686259369220026\n",
      "fractal_dimension_worst ----------> 0.013784698156521405\n",
      "Unnamed: 32 ----------> nan\n"
     ]
    }
   ],
   "source": [
    "for i in cols:\n",
    "    print(i,'---------->',np.std(data_b[i]))"
   ]
  },
  {
   "cell_type": "code",
   "execution_count": 69,
   "metadata": {},
   "outputs": [
    {
     "name": "stdout",
     "output_type": "stream",
     "text": [
      "id ----------> 1.3628148690161476e+16\n",
      "radius_mean ----------> 3.1702217220438738\n",
      "texture_mean ----------> 15.961020518994115\n",
      "perimeter_mean ----------> 139.41558220816415\n",
      "area_mean ----------> 18033.030100242344\n",
      "smoothness_mean ----------> 0.00018079699557171182\n",
      "compactness_mean ----------> 0.0011390594350391841\n",
      "concavity_mean ----------> 0.001887220487421945\n",
      "concave points_mean ----------> 0.0002530892294890631\n",
      "symmetry_mean ----------> 0.0006153752527303057\n",
      "fractal_dimension_mean ----------> 4.55266350486262e-05\n",
      "radius_se ----------> 0.012671916682088566\n",
      "texture_se ----------> 0.3471327509797627\n",
      "perimeter_se ----------> 0.5947019392084474\n",
      "area_se ----------> 78.20699781216756\n",
      "smoothness_se ----------> 9.367331425754571e-06\n",
      "compactness_se ----------> 0.00026737192377052847\n",
      "concavity_se ----------> 0.001083610277881287\n",
      "concave points_se ----------> 3.258839569362352e-05\n",
      "symmetry_se ----------> 4.897954412265131e-05\n",
      "fractal_dimension_se ----------> 8.633130540539136e-06\n",
      "radius_worst ----------> 3.925817446290876\n",
      "texture_worst ----------> 30.183536301262077\n",
      "perimeter_worst ----------> 182.9821882321468\n",
      "area_worst ----------> 26765.425898561673\n",
      "smoothness_worst ----------> 0.000400538789632707\n",
      "compactness_worst ----------> 0.008497148638708967\n",
      "concavity_worst ----------> 0.01970310265145378\n",
      "concave points_worst ----------> 0.0012814519692320838\n",
      "symmetry_worst ----------> 0.001742625524187203\n",
      "fractal_dimension_worst ----------> 0.0001905516614216473\n",
      "Unnamed: 32 ----------> nan\n"
     ]
    }
   ],
   "source": [
    "\n",
    "for i in cols:\n",
    "    print(i,'---------->',statistics.variance(data_b[i]))"
   ]
  },
  {
   "cell_type": "code",
   "execution_count": 70,
   "metadata": {},
   "outputs": [],
   "source": [
    "data_v=data[data['diagnosis']=='M']"
   ]
  },
  {
   "cell_type": "code",
   "execution_count": 71,
   "metadata": {},
   "outputs": [
    {
     "name": "stdout",
     "output_type": "stream",
     "text": [
      "id -----------> 36818050.443396226\n",
      "radius_mean -----------> 17.46283018867925\n",
      "texture_mean -----------> 21.60490566037735\n",
      "perimeter_mean -----------> 115.36537735849062\n",
      "area_mean -----------> 978.3764150943397\n",
      "smoothness_mean -----------> 0.10289849056603775\n",
      "compactness_mean -----------> 0.14518778301886787\n",
      "concavity_mean -----------> 0.1607747169811321\n",
      "concave points_mean -----------> 0.08799000000000004\n",
      "symmetry_mean -----------> 0.19290896226415097\n",
      "fractal_dimension_mean -----------> 0.0626800943396226\n",
      "radius_se -----------> 0.6090825471698114\n",
      "texture_se -----------> 1.210914622641509\n",
      "perimeter_se -----------> 4.323929245283021\n",
      "area_se -----------> 72.67240566037735\n",
      "smoothness_se -----------> 0.006780094339622644\n",
      "compactness_se -----------> 0.03228116509433961\n",
      "concavity_se -----------> 0.04182400943396226\n",
      "concave points_se -----------> 0.015060471698113207\n",
      "symmetry_se -----------> 0.020472400943396227\n",
      "fractal_dimension_se -----------> 0.0040624056603773585\n",
      "radius_worst -----------> 21.134811320754707\n",
      "texture_worst -----------> 29.318207547169784\n",
      "perimeter_worst -----------> 141.37033018867922\n",
      "area_worst -----------> 1422.286320754717\n",
      "smoothness_worst -----------> 0.14484523584905656\n",
      "compactness_worst -----------> 0.374824103773585\n",
      "concavity_worst -----------> 0.4506055660377357\n",
      "concave points_worst -----------> 0.18223731132075477\n",
      "symmetry_worst -----------> 0.32346792452830186\n",
      "fractal_dimension_worst -----------> 0.09152995283018865\n",
      "Unnamed: 32 -----------> nan\n"
     ]
    }
   ],
   "source": [
    "for i in cols:\n",
    "        print(i,'----------->',data_v[i].mean())"
   ]
  },
  {
   "cell_type": "code",
   "execution_count": 72,
   "metadata": {},
   "outputs": [
    {
     "name": "stdout",
     "output_type": "stream",
     "text": [
      "id ----------> 137570937.49999902\n",
      "radius_mean ----------> 3.1964056330766457\n",
      "texture_mean ----------> 3.7705455401500347\n",
      "perimeter_mean ----------> 21.803048370671174\n",
      "area_mean ----------> 367.06917361355346\n",
      "smoothness_mean ----------> 0.012578463947111302\n",
      "compactness_mean ----------> 0.053860015547732405\n",
      "concavity_mean ----------> 0.07484218633303398\n",
      "concave points_mean ----------> 0.034292742507405924\n",
      "symmetry_mean ----------> 0.027572830913482227\n",
      "fractal_dimension_mean ----------> 0.0075554323197464905\n",
      "radius_se ----------> 0.3442238487444694\n",
      "texture_se ----------> 0.48203715910485195\n",
      "perimeter_se ----------> 2.5624806027233444\n",
      "area_se ----------> 61.210391539511846\n",
      "smoothness_se ----------> 0.002883604821171746\n",
      "compactness_se ----------> 0.018343772646891836\n",
      "concavity_se ----------> 0.021552416676206332\n",
      "concave points_se ----------> 0.005504334413360498\n",
      "symmetry_se ----------> 0.010041122440386298\n",
      "fractal_dimension_se ----------> 0.002036677389345168\n",
      "radius_worst ----------> 4.273454753526459\n",
      "texture_worst ----------> 5.421970991126963\n",
      "perimeter_worst ----------> 29.38749885651922\n",
      "area_worst ----------> 596.5557748455357\n",
      "smoothness_worst ----------> 0.021818193624990656\n",
      "compactness_worst ----------> 0.16996968903098902\n",
      "concavity_worst ----------> 0.1810781346237875\n",
      "concave points_worst ----------> 0.04619844449146943\n",
      "symmetry_worst ----------> 0.0745086040962496\n",
      "fractal_dimension_worst ----------> 0.02150199614466812\n",
      "Unnamed: 32 ----------> nan\n"
     ]
    }
   ],
   "source": [
    "for i in cols:\n",
    "    print(i,'---------->',np.std(data_v[i]))"
   ]
  },
  {
   "cell_type": "code",
   "execution_count": 73,
   "metadata": {},
   "outputs": [
    {
     "name": "stdout",
     "output_type": "stream",
     "text": [
      "id ----------> 1.9015458403133984e+16\n",
      "radius_mean ----------> 10.26543081462935\n",
      "texture_mean ----------> 14.284392882053117\n",
      "perimeter_mean ----------> 477.6258704730394\n",
      "area_mean ----------> 135378.35536528658\n",
      "smoothness_mean ----------> 0.00015896760245014753\n",
      "compactness_mean ----------> 0.0029146496220759186\n",
      "concavity_mean ----------> 0.005627899551104355\n",
      "concave points_mean ----------> 0.0011815656113744076\n",
      "symmetry_mean ----------> 0.0007638641373066262\n",
      "fractal_dimension_mean ----------> 5.73551004649915e-05\n",
      "radius_se ----------> 0.11905162230059017\n",
      "texture_se ----------> 0.23346105414535456\n",
      "perimeter_se ----------> 6.597426776960565\n",
      "area_se ----------> 3764.468961483949\n",
      "smoothness_se ----------> 8.354585185370654e-06\n",
      "compactness_se ----------> 0.00033808875319062413\n",
      "concavity_se ----------> 0.0004667081179714746\n",
      "concave points_se ----------> 3.0441288316730752e-05\n",
      "symmetry_se ----------> 0.00010130197938824555\n",
      "fractal_dimension_se ----------> 4.167713815702405e-06\n",
      "radius_worst ----------> 18.348967262809623\n",
      "texture_worst ----------> 29.53709535008495\n",
      "perimeter_worst ----------> 867.7180989425914\n",
      "area_worst ----------> 357565.4218499061\n",
      "smoothness_worst ----------> 0.00047828965634221583\n",
      "compactness_worst ----------> 0.02902661317597022\n",
      "concavity_worst ----------> 0.03294469032147903\n",
      "concave points_worst ----------> 0.002144411421646696\n",
      "symmetry_worst ----------> 0.00557784266297058\n",
      "fractal_dimension_worst ----------> 0.0004645270033153\n",
      "Unnamed: 32 ----------> nan\n"
     ]
    }
   ],
   "source": [
    "for i in cols:\n",
    "    print(i,'---------->',statistics.variance(data_v[i]))"
   ]
  },
  {
   "cell_type": "code",
   "execution_count": 76,
   "metadata": {},
   "outputs": [
    {
     "data": {
      "text/plain": [
       "array([[ 1.29767572,  1.09706398, -2.07333501, ...,  2.29607613,\n",
       "         2.75062224,  1.93701461],\n",
       "       [ 1.29767572,  1.82982061, -0.35363241, ...,  1.0870843 ,\n",
       "        -0.24388967,  0.28118999],\n",
       "       [ 1.29767572,  1.57988811,  0.45618695, ...,  1.95500035,\n",
       "         1.152255  ,  0.20139121],\n",
       "       ...,\n",
       "       [ 1.29767572,  0.70228425,  2.0455738 , ...,  0.41406869,\n",
       "        -1.10454895, -0.31840916],\n",
       "       [ 1.29767572,  1.83834103,  2.33645719, ...,  2.28998549,\n",
       "         1.91908301,  2.21963528],\n",
       "       [-0.77060855, -1.80840125,  1.22179204, ..., -1.74506282,\n",
       "        -0.04813821, -0.75120669]])"
      ]
     },
     "execution_count": 76,
     "metadata": {},
     "output_type": "execute_result"
    }
   ],
   "source": [
    "from sklearn.preprocessing import StandardScaler\n",
    "scaler=StandardScaler()\n",
    "data['diagnosis'].replace({'M':1,'B':0},inplace=True)\n",
    "data_copy=data.drop(['id','Unnamed: 32'],axis=1)\n",
    "scaler.fit_transform(data_copy)\n"
   ]
  },
  {
   "cell_type": "code",
   "execution_count": 77,
   "metadata": {},
   "outputs": [
    {
     "data": {
      "text/html": [
       "<div>\n",
       "<style scoped>\n",
       "    .dataframe tbody tr th:only-of-type {\n",
       "        vertical-align: middle;\n",
       "    }\n",
       "\n",
       "    .dataframe tbody tr th {\n",
       "        vertical-align: top;\n",
       "    }\n",
       "\n",
       "    .dataframe thead th {\n",
       "        text-align: right;\n",
       "    }\n",
       "</style>\n",
       "<table border=\"1\" class=\"dataframe\">\n",
       "  <thead>\n",
       "    <tr style=\"text-align: right;\">\n",
       "      <th></th>\n",
       "      <th>diagnosis</th>\n",
       "      <th>radius_mean</th>\n",
       "      <th>texture_mean</th>\n",
       "      <th>perimeter_mean</th>\n",
       "      <th>area_mean</th>\n",
       "      <th>smoothness_mean</th>\n",
       "      <th>compactness_mean</th>\n",
       "      <th>concavity_mean</th>\n",
       "      <th>concave points_mean</th>\n",
       "      <th>symmetry_mean</th>\n",
       "      <th>...</th>\n",
       "      <th>radius_worst</th>\n",
       "      <th>texture_worst</th>\n",
       "      <th>perimeter_worst</th>\n",
       "      <th>area_worst</th>\n",
       "      <th>smoothness_worst</th>\n",
       "      <th>compactness_worst</th>\n",
       "      <th>concavity_worst</th>\n",
       "      <th>concave points_worst</th>\n",
       "      <th>symmetry_worst</th>\n",
       "      <th>fractal_dimension_worst</th>\n",
       "    </tr>\n",
       "  </thead>\n",
       "  <tbody>\n",
       "    <tr>\n",
       "      <td>0</td>\n",
       "      <td>1</td>\n",
       "      <td>17.99</td>\n",
       "      <td>10.38</td>\n",
       "      <td>122.80</td>\n",
       "      <td>1001.0</td>\n",
       "      <td>0.11840</td>\n",
       "      <td>0.27760</td>\n",
       "      <td>0.30010</td>\n",
       "      <td>0.14710</td>\n",
       "      <td>0.2419</td>\n",
       "      <td>...</td>\n",
       "      <td>25.380</td>\n",
       "      <td>17.33</td>\n",
       "      <td>184.60</td>\n",
       "      <td>2019.0</td>\n",
       "      <td>0.16220</td>\n",
       "      <td>0.66560</td>\n",
       "      <td>0.7119</td>\n",
       "      <td>0.2654</td>\n",
       "      <td>0.4601</td>\n",
       "      <td>0.11890</td>\n",
       "    </tr>\n",
       "    <tr>\n",
       "      <td>1</td>\n",
       "      <td>1</td>\n",
       "      <td>20.57</td>\n",
       "      <td>17.77</td>\n",
       "      <td>132.90</td>\n",
       "      <td>1326.0</td>\n",
       "      <td>0.08474</td>\n",
       "      <td>0.07864</td>\n",
       "      <td>0.08690</td>\n",
       "      <td>0.07017</td>\n",
       "      <td>0.1812</td>\n",
       "      <td>...</td>\n",
       "      <td>24.990</td>\n",
       "      <td>23.41</td>\n",
       "      <td>158.80</td>\n",
       "      <td>1956.0</td>\n",
       "      <td>0.12380</td>\n",
       "      <td>0.18660</td>\n",
       "      <td>0.2416</td>\n",
       "      <td>0.1860</td>\n",
       "      <td>0.2750</td>\n",
       "      <td>0.08902</td>\n",
       "    </tr>\n",
       "    <tr>\n",
       "      <td>2</td>\n",
       "      <td>1</td>\n",
       "      <td>19.69</td>\n",
       "      <td>21.25</td>\n",
       "      <td>130.00</td>\n",
       "      <td>1203.0</td>\n",
       "      <td>0.10960</td>\n",
       "      <td>0.15990</td>\n",
       "      <td>0.19740</td>\n",
       "      <td>0.12790</td>\n",
       "      <td>0.2069</td>\n",
       "      <td>...</td>\n",
       "      <td>23.570</td>\n",
       "      <td>25.53</td>\n",
       "      <td>152.50</td>\n",
       "      <td>1709.0</td>\n",
       "      <td>0.14440</td>\n",
       "      <td>0.42450</td>\n",
       "      <td>0.4504</td>\n",
       "      <td>0.2430</td>\n",
       "      <td>0.3613</td>\n",
       "      <td>0.08758</td>\n",
       "    </tr>\n",
       "    <tr>\n",
       "      <td>3</td>\n",
       "      <td>1</td>\n",
       "      <td>11.42</td>\n",
       "      <td>20.38</td>\n",
       "      <td>77.58</td>\n",
       "      <td>386.1</td>\n",
       "      <td>0.14250</td>\n",
       "      <td>0.28390</td>\n",
       "      <td>0.24140</td>\n",
       "      <td>0.10520</td>\n",
       "      <td>0.2597</td>\n",
       "      <td>...</td>\n",
       "      <td>14.910</td>\n",
       "      <td>26.50</td>\n",
       "      <td>98.87</td>\n",
       "      <td>567.7</td>\n",
       "      <td>0.20980</td>\n",
       "      <td>0.86630</td>\n",
       "      <td>0.6869</td>\n",
       "      <td>0.2575</td>\n",
       "      <td>0.6638</td>\n",
       "      <td>0.17300</td>\n",
       "    </tr>\n",
       "    <tr>\n",
       "      <td>4</td>\n",
       "      <td>1</td>\n",
       "      <td>20.29</td>\n",
       "      <td>14.34</td>\n",
       "      <td>135.10</td>\n",
       "      <td>1297.0</td>\n",
       "      <td>0.10030</td>\n",
       "      <td>0.13280</td>\n",
       "      <td>0.19800</td>\n",
       "      <td>0.10430</td>\n",
       "      <td>0.1809</td>\n",
       "      <td>...</td>\n",
       "      <td>22.540</td>\n",
       "      <td>16.67</td>\n",
       "      <td>152.20</td>\n",
       "      <td>1575.0</td>\n",
       "      <td>0.13740</td>\n",
       "      <td>0.20500</td>\n",
       "      <td>0.4000</td>\n",
       "      <td>0.1625</td>\n",
       "      <td>0.2364</td>\n",
       "      <td>0.07678</td>\n",
       "    </tr>\n",
       "    <tr>\n",
       "      <td>...</td>\n",
       "      <td>...</td>\n",
       "      <td>...</td>\n",
       "      <td>...</td>\n",
       "      <td>...</td>\n",
       "      <td>...</td>\n",
       "      <td>...</td>\n",
       "      <td>...</td>\n",
       "      <td>...</td>\n",
       "      <td>...</td>\n",
       "      <td>...</td>\n",
       "      <td>...</td>\n",
       "      <td>...</td>\n",
       "      <td>...</td>\n",
       "      <td>...</td>\n",
       "      <td>...</td>\n",
       "      <td>...</td>\n",
       "      <td>...</td>\n",
       "      <td>...</td>\n",
       "      <td>...</td>\n",
       "      <td>...</td>\n",
       "      <td>...</td>\n",
       "    </tr>\n",
       "    <tr>\n",
       "      <td>564</td>\n",
       "      <td>1</td>\n",
       "      <td>21.56</td>\n",
       "      <td>22.39</td>\n",
       "      <td>142.00</td>\n",
       "      <td>1479.0</td>\n",
       "      <td>0.11100</td>\n",
       "      <td>0.11590</td>\n",
       "      <td>0.24390</td>\n",
       "      <td>0.13890</td>\n",
       "      <td>0.1726</td>\n",
       "      <td>...</td>\n",
       "      <td>25.450</td>\n",
       "      <td>26.40</td>\n",
       "      <td>166.10</td>\n",
       "      <td>2027.0</td>\n",
       "      <td>0.14100</td>\n",
       "      <td>0.21130</td>\n",
       "      <td>0.4107</td>\n",
       "      <td>0.2216</td>\n",
       "      <td>0.2060</td>\n",
       "      <td>0.07115</td>\n",
       "    </tr>\n",
       "    <tr>\n",
       "      <td>565</td>\n",
       "      <td>1</td>\n",
       "      <td>20.13</td>\n",
       "      <td>28.25</td>\n",
       "      <td>131.20</td>\n",
       "      <td>1261.0</td>\n",
       "      <td>0.09780</td>\n",
       "      <td>0.10340</td>\n",
       "      <td>0.14400</td>\n",
       "      <td>0.09791</td>\n",
       "      <td>0.1752</td>\n",
       "      <td>...</td>\n",
       "      <td>23.690</td>\n",
       "      <td>38.25</td>\n",
       "      <td>155.00</td>\n",
       "      <td>1731.0</td>\n",
       "      <td>0.11660</td>\n",
       "      <td>0.19220</td>\n",
       "      <td>0.3215</td>\n",
       "      <td>0.1628</td>\n",
       "      <td>0.2572</td>\n",
       "      <td>0.06637</td>\n",
       "    </tr>\n",
       "    <tr>\n",
       "      <td>566</td>\n",
       "      <td>1</td>\n",
       "      <td>16.60</td>\n",
       "      <td>28.08</td>\n",
       "      <td>108.30</td>\n",
       "      <td>858.1</td>\n",
       "      <td>0.08455</td>\n",
       "      <td>0.10230</td>\n",
       "      <td>0.09251</td>\n",
       "      <td>0.05302</td>\n",
       "      <td>0.1590</td>\n",
       "      <td>...</td>\n",
       "      <td>18.980</td>\n",
       "      <td>34.12</td>\n",
       "      <td>126.70</td>\n",
       "      <td>1124.0</td>\n",
       "      <td>0.11390</td>\n",
       "      <td>0.30940</td>\n",
       "      <td>0.3403</td>\n",
       "      <td>0.1418</td>\n",
       "      <td>0.2218</td>\n",
       "      <td>0.07820</td>\n",
       "    </tr>\n",
       "    <tr>\n",
       "      <td>567</td>\n",
       "      <td>1</td>\n",
       "      <td>20.60</td>\n",
       "      <td>29.33</td>\n",
       "      <td>140.10</td>\n",
       "      <td>1265.0</td>\n",
       "      <td>0.11780</td>\n",
       "      <td>0.27700</td>\n",
       "      <td>0.35140</td>\n",
       "      <td>0.15200</td>\n",
       "      <td>0.2397</td>\n",
       "      <td>...</td>\n",
       "      <td>25.740</td>\n",
       "      <td>39.42</td>\n",
       "      <td>184.60</td>\n",
       "      <td>1821.0</td>\n",
       "      <td>0.16500</td>\n",
       "      <td>0.86810</td>\n",
       "      <td>0.9387</td>\n",
       "      <td>0.2650</td>\n",
       "      <td>0.4087</td>\n",
       "      <td>0.12400</td>\n",
       "    </tr>\n",
       "    <tr>\n",
       "      <td>568</td>\n",
       "      <td>0</td>\n",
       "      <td>7.76</td>\n",
       "      <td>24.54</td>\n",
       "      <td>47.92</td>\n",
       "      <td>181.0</td>\n",
       "      <td>0.05263</td>\n",
       "      <td>0.04362</td>\n",
       "      <td>0.00000</td>\n",
       "      <td>0.00000</td>\n",
       "      <td>0.1587</td>\n",
       "      <td>...</td>\n",
       "      <td>9.456</td>\n",
       "      <td>30.37</td>\n",
       "      <td>59.16</td>\n",
       "      <td>268.6</td>\n",
       "      <td>0.08996</td>\n",
       "      <td>0.06444</td>\n",
       "      <td>0.0000</td>\n",
       "      <td>0.0000</td>\n",
       "      <td>0.2871</td>\n",
       "      <td>0.07039</td>\n",
       "    </tr>\n",
       "  </tbody>\n",
       "</table>\n",
       "<p>569 rows × 31 columns</p>\n",
       "</div>"
      ],
      "text/plain": [
       "     diagnosis  radius_mean  texture_mean  perimeter_mean  area_mean  \\\n",
       "0            1        17.99         10.38          122.80     1001.0   \n",
       "1            1        20.57         17.77          132.90     1326.0   \n",
       "2            1        19.69         21.25          130.00     1203.0   \n",
       "3            1        11.42         20.38           77.58      386.1   \n",
       "4            1        20.29         14.34          135.10     1297.0   \n",
       "..         ...          ...           ...             ...        ...   \n",
       "564          1        21.56         22.39          142.00     1479.0   \n",
       "565          1        20.13         28.25          131.20     1261.0   \n",
       "566          1        16.60         28.08          108.30      858.1   \n",
       "567          1        20.60         29.33          140.10     1265.0   \n",
       "568          0         7.76         24.54           47.92      181.0   \n",
       "\n",
       "     smoothness_mean  compactness_mean  concavity_mean  concave points_mean  \\\n",
       "0            0.11840           0.27760         0.30010              0.14710   \n",
       "1            0.08474           0.07864         0.08690              0.07017   \n",
       "2            0.10960           0.15990         0.19740              0.12790   \n",
       "3            0.14250           0.28390         0.24140              0.10520   \n",
       "4            0.10030           0.13280         0.19800              0.10430   \n",
       "..               ...               ...             ...                  ...   \n",
       "564          0.11100           0.11590         0.24390              0.13890   \n",
       "565          0.09780           0.10340         0.14400              0.09791   \n",
       "566          0.08455           0.10230         0.09251              0.05302   \n",
       "567          0.11780           0.27700         0.35140              0.15200   \n",
       "568          0.05263           0.04362         0.00000              0.00000   \n",
       "\n",
       "     symmetry_mean  ...  radius_worst  texture_worst  perimeter_worst  \\\n",
       "0           0.2419  ...        25.380          17.33           184.60   \n",
       "1           0.1812  ...        24.990          23.41           158.80   \n",
       "2           0.2069  ...        23.570          25.53           152.50   \n",
       "3           0.2597  ...        14.910          26.50            98.87   \n",
       "4           0.1809  ...        22.540          16.67           152.20   \n",
       "..             ...  ...           ...            ...              ...   \n",
       "564         0.1726  ...        25.450          26.40           166.10   \n",
       "565         0.1752  ...        23.690          38.25           155.00   \n",
       "566         0.1590  ...        18.980          34.12           126.70   \n",
       "567         0.2397  ...        25.740          39.42           184.60   \n",
       "568         0.1587  ...         9.456          30.37            59.16   \n",
       "\n",
       "     area_worst  smoothness_worst  compactness_worst  concavity_worst  \\\n",
       "0        2019.0           0.16220            0.66560           0.7119   \n",
       "1        1956.0           0.12380            0.18660           0.2416   \n",
       "2        1709.0           0.14440            0.42450           0.4504   \n",
       "3         567.7           0.20980            0.86630           0.6869   \n",
       "4        1575.0           0.13740            0.20500           0.4000   \n",
       "..          ...               ...                ...              ...   \n",
       "564      2027.0           0.14100            0.21130           0.4107   \n",
       "565      1731.0           0.11660            0.19220           0.3215   \n",
       "566      1124.0           0.11390            0.30940           0.3403   \n",
       "567      1821.0           0.16500            0.86810           0.9387   \n",
       "568       268.6           0.08996            0.06444           0.0000   \n",
       "\n",
       "     concave points_worst  symmetry_worst  fractal_dimension_worst  \n",
       "0                  0.2654          0.4601                  0.11890  \n",
       "1                  0.1860          0.2750                  0.08902  \n",
       "2                  0.2430          0.3613                  0.08758  \n",
       "3                  0.2575          0.6638                  0.17300  \n",
       "4                  0.1625          0.2364                  0.07678  \n",
       "..                    ...             ...                      ...  \n",
       "564                0.2216          0.2060                  0.07115  \n",
       "565                0.1628          0.2572                  0.06637  \n",
       "566                0.1418          0.2218                  0.07820  \n",
       "567                0.2650          0.4087                  0.12400  \n",
       "568                0.0000          0.2871                  0.07039  \n",
       "\n",
       "[569 rows x 31 columns]"
      ]
     },
     "execution_count": 77,
     "metadata": {},
     "output_type": "execute_result"
    }
   ],
   "source": [
    "data_copy"
   ]
  },
  {
   "cell_type": "code",
   "execution_count": 90,
   "metadata": {},
   "outputs": [],
   "source": [
    "data_b_scaled=data_copy[data_copy['diagnosis']==0]\n",
    "data_v_scaled=data_copy[data_copy['diagnosis']==1]"
   ]
  },
  {
   "cell_type": "code",
   "execution_count": 91,
   "metadata": {},
   "outputs": [
    {
     "name": "stderr",
     "output_type": "stream",
     "text": [
      "C:\\Users\\Ajay\\Anaconda3\\lib\\site-packages\\ipykernel_launcher.py:3: RuntimeWarning: More than 20 figures have been opened. Figures created through the pyplot interface (`matplotlib.pyplot.figure`) are retained until explicitly closed and may consume too much memory. (To control this warning, see the rcParam `figure.max_open_warning`).\n",
      "  This is separate from the ipykernel package so we can avoid doing imports until\n"
     ]
    },
    {
     "data": {
      "image/png": "[encoded data removed]",
      "text/plain": [
       "<Figure size 288x288 with 1 Axes>"
      ]
     },
     "metadata": {
      "needs_background": "light"
     },
     "output_type": "display_data"
    },
    {
     "data": {
      "image/png": "[encoded data removed]",
      "text/plain": [
       "<Figure size 288x288 with 1 Axes>"
      ]
     },
     "metadata": {
      "needs_background": "light"
     },
     "output_type": "display_data"
    },
    {
     "data": {
      "image/png": "[encoded data removed]",
      "text/plain": [
       "<Figure size 288x288 with 1 Axes>"
      ]
     },
     "metadata": {
      "needs_background": "light"
     },
     "output_type": "display_data"
    },
    {
     "data": {
      "image/png": "[encoded data removed]",
      "text/plain": [
       "<Figure size 288x288 with 1 Axes>"
      ]
     },
     "metadata": {
      "needs_background": "light"
     },
     "output_type": "display_data"
    },
    {
     "data": {
      "image/png": "[encoded data removed]",
      "text/plain": [
       "<Figure size 288x288 with 1 Axes>"
      ]
     },
     "metadata": {
      "needs_background": "light"
     },
     "output_type": "display_data"
    },
    {
     "data": {
      "image/png": "[encoded data removed]",
      "text/plain": [
       "<Figure size 288x288 with 1 Axes>"
      ]
     },
     "metadata": {
      "needs_background": "light"
     },
     "output_type": "display_data"
    },
    {
     "data": {
      "image/png": "[encoded data removed]",
      "text/plain": [
       "<Figure size 288x288 with 1 Axes>"
      ]
     },
     "metadata": {
      "needs_background": "light"
     },
     "output_type": "display_data"
    },
    {
     "data": {
      "image/png": "[encoded data removed]",
      "text/plain": [
       "<Figure size 288x288 with 1 Axes>"
      ]
     },
     "metadata": {
      "needs_background": "light"
     },
     "output_type": "display_data"
    },
    {
     "data": {
      "image/png": "[encoded data removed]",
      "text/plain": [
       "<Figure size 288x288 with 1 Axes>"
      ]
     },
     "metadata": {
      "needs_background": "light"
     },
     "output_type": "display_data"
    },
    {
     "data": {
      "image/png": "[encoded data removed]",
      "text/plain": [
       "<Figure size 288x288 with 1 Axes>"
      ]
     },
     "metadata": {
      "needs_background": "light"
     },
     "output_type": "display_data"
    },
    {
     "data": {
      "image/png": "[encoded data removed]",
      "text/plain": [
       "<Figure size 288x288 with 1 Axes>"
      ]
     },
     "metadata": {
      "needs_background": "light"
     },
     "output_type": "display_data"
    },
    {
     "data": {
      "image/png": "[encoded data removed]",
      "text/plain": [
       "<Figure size 288x288 with 1 Axes>"
      ]
     },
     "metadata": {
      "needs_background": "light"
     },
     "output_type": "display_data"
    },
    {
     "data": {
      "image/png": "[encoded data removed]",
      "text/plain": [
       "<Figure size 288x288 with 1 Axes>"
      ]
     },
     "metadata": {
      "needs_background": "light"
     },
     "output_type": "display_data"
    },
    {
     "data": {
      "image/png": "[encoded data removed]",
      "text/plain": [
       "<Figure size 288x288 with 1 Axes>"
      ]
     },
     "metadata": {
      "needs_background": "light"
     },
     "output_type": "display_data"
    },
    {
     "data": {
      "image/png": "[encoded data removed]",
      "text/plain": [
       "<Figure size 288x288 with 1 Axes>"
      ]
     },
     "metadata": {
      "needs_background": "light"
     },
     "output_type": "display_data"
    },
    {
     "data": {
      "image/png": "[encoded data removed]",
      "text/plain": [
       "<Figure size 288x288 with 1 Axes>"
      ]
     },
     "metadata": {
      "needs_background": "light"
     },
     "output_type": "display_data"
    },
    {
     "data": {
      "image/png": "[encoded data removed]",
      "text/plain": [
       "<Figure size 288x288 with 1 Axes>"
      ]
     },
     "metadata": {
      "needs_background": "light"
     },
     "output_type": "display_data"
    },
    {
     "data": {
      "image/png": "[encoded data removed]",
      "text/plain": [
       "<Figure size 288x288 with 1 Axes>"
      ]
     },
     "metadata": {
      "needs_background": "light"
     },
     "output_type": "display_data"
    },
    {
     "data": {
      "image/png": "[encoded data removed]",
      "text/plain": [
       "<Figure size 288x288 with 1 Axes>"
      ]
     },
     "metadata": {
      "needs_background": "light"
     },
     "output_type": "display_data"
    },
    {
     "data": {
      "image/png": "[encoded data removed]",
      "text/plain": [
       "<Figure size 288x288 with 1 Axes>"
      ]
     },
     "metadata": {
      "needs_background": "light"
     },
     "output_type": "display_data"
    },
    {
     "data": {
      "image/png": "[encoded data removed]",
      "text/plain": [
       "<Figure size 288x288 with 1 Axes>"
      ]
     },
     "metadata": {
      "needs_background": "light"
     },
     "output_type": "display_data"
    },
    {
     "data": {
      "image/png": "[encoded data removed]",
      "text/plain": [
       "<Figure size 288x288 with 1 Axes>"
      ]
     },
     "metadata": {
      "needs_background": "light"
     },
     "output_type": "display_data"
    },
    {
     "data": {
      "image/png": "[encoded data removed]",
      "text/plain": [
       "<Figure size 288x288 with 1 Axes>"
      ]
     },
     "metadata": {
      "needs_background": "light"
     },
     "output_type": "display_data"
    },
    {
     "data": {
      "image/png": "[encoded data removed]",
      "text/plain": [
       "<Figure size 288x288 with 1 Axes>"
      ]
     },
     "metadata": {
      "needs_background": "light"
     },
     "output_type": "display_data"
    },
    {
     "data": {
      "image/png": "[encoded data removed]",
      "text/plain": [
       "<Figure size 288x288 with 1 Axes>"
      ]
     },
     "metadata": {
      "needs_background": "light"
     },
     "output_type": "display_data"
    },
    {
     "data": {
      "image/png": "[encoded data removed]",
      "text/plain": [
       "<Figure size 288x288 with 1 Axes>"
      ]
     },
     "metadata": {
      "needs_background": "light"
     },
     "output_type": "display_data"
    },
    {
     "data": {
      "image/png": "[encoded data removed]",
      "text/plain": [
       "<Figure size 288x288 with 1 Axes>"
      ]
     },
     "metadata": {
      "needs_background": "light"
     },
     "output_type": "display_data"
    },
    {
     "data": {
      "image/png": "[encoded data removed]",
      "text/plain": [
       "<Figure size 288x288 with 1 Axes>"
      ]
     },
     "metadata": {
      "needs_background": "light"
     },
     "output_type": "display_data"
    },
    {
     "data": {
      "image/png": "[encoded data removed]",
      "text/plain": [
       "<Figure size 288x288 with 1 Axes>"
      ]
     },
     "metadata": {
      "needs_background": "light"
     },
     "output_type": "display_data"
    },
    {
     "data": {
      "image/png": "[encoded data removed]",
      "text/plain": [
       "<Figure size 288x288 with 1 Axes>"
      ]
     },
     "metadata": {
      "needs_background": "light"
     },
     "output_type": "display_data"
    },
    {
     "data": {
      "image/png": "[encoded data removed]",
      "text/plain": [
       "<Figure size 288x288 with 1 Axes>"
      ]
     },
     "metadata": {
      "needs_background": "light"
     },
     "output_type": "display_data"
    }
   ],
   "source": [
    "cols=data_copy.columns\n",
    "for i in cols:\n",
    "    fig=plt.figure(figsize=(4,4))\n",
    "    sns.distplot(data_b_scaled[i],kde=False)"
   ]
  },
  {
   "cell_type": "code",
   "execution_count": 92,
   "metadata": {},
   "outputs": [
    {
     "name": "stderr",
     "output_type": "stream",
     "text": [
      "C:\\Users\\Ajay\\Anaconda3\\lib\\site-packages\\ipykernel_launcher.py:3: RuntimeWarning: More than 20 figures have been opened. Figures created through the pyplot interface (`matplotlib.pyplot.figure`) are retained until explicitly closed and may consume too much memory. (To control this warning, see the rcParam `figure.max_open_warning`).\n",
      "  This is separate from the ipykernel package so we can avoid doing imports until\n"
     ]
    },
    {
     "data": {
      "image/png": "[encoded data removed]",
      "text/plain": [
       "<Figure size 288x288 with 1 Axes>"
      ]
     },
     "metadata": {
      "needs_background": "light"
     },
     "output_type": "display_data"
    },
    {
     "data": {
      "image/png": "[encoded data removed]",
      "text/plain": [
       "<Figure size 288x288 with 1 Axes>"
      ]
     },
     "metadata": {
      "needs_background": "light"
     },
     "output_type": "display_data"
    },
    {
     "data": {
      "image/png": "[encoded data removed]",
      "text/plain": [
       "<Figure size 288x288 with 1 Axes>"
      ]
     },
     "metadata": {
      "needs_background": "light"
     },
     "output_type": "display_data"
    },
    {
     "data": {
      "image/png": "[encoded data removed]",
      "text/plain": [
       "<Figure size 288x288 with 1 Axes>"
      ]
     },
     "metadata": {
      "needs_background": "light"
     },
     "output_type": "display_data"
    },
    {
     "data": {
      "image/png": "[encoded data removed]",
      "text/plain": [
       "<Figure size 288x288 with 1 Axes>"
      ]
     },
     "metadata": {
      "needs_background": "light"
     },
     "output_type": "display_data"
    },
    {
     "data": {
      "image/png": "[encoded data removed]",
      "text/plain": [
       "<Figure size 288x288 with 1 Axes>"
      ]
     },
     "metadata": {
      "needs_background": "light"
     },
     "output_type": "display_data"
    },
    {
     "data": {
      "image/png": "[encoded data removed]",
      "text/plain": [
       "<Figure size 288x288 with 1 Axes>"
      ]
     },
     "metadata": {
      "needs_background": "light"
     },
     "output_type": "display_data"
    },
    {
     "data": {
      "image/png": "[encoded data removed]",
      "text/plain": [
       "<Figure size 288x288 with 1 Axes>"
      ]
     },
     "metadata": {
      "needs_background": "light"
     },
     "output_type": "display_data"
    },
    {
     "data": {
      "image/png": "[encoded data removed]",
      "text/plain": [
       "<Figure size 288x288 with 1 Axes>"
      ]
     },
     "metadata": {
      "needs_background": "light"
     },
     "output_type": "display_data"
    },
    {
     "data": {
      "image/png": "[encoded data removed]",
      "text/plain": [
       "<Figure size 288x288 with 1 Axes>"
      ]
     },
     "metadata": {
      "needs_background": "light"
     },
     "output_type": "display_data"
    },
    {
     "data": {
      "image/png": "[encoded data removed]",
      "text/plain": [
       "<Figure size 288x288 with 1 Axes>"
      ]
     },
     "metadata": {
      "needs_background": "light"
     },
     "output_type": "display_data"
    },
    {
     "data": {
      "image/png": "[encoded data removed]",
      "text/plain": [
       "<Figure size 288x288 with 1 Axes>"
      ]
     },
     "metadata": {
      "needs_background": "light"
     },
     "output_type": "display_data"
    },
    {
     "data": {
      "image/png": "[encoded data removed]",
      "text/plain": [
       "<Figure size 288x288 with 1 Axes>"
      ]
     },
     "metadata": {
      "needs_background": "light"
     },
     "output_type": "display_data"
    },
    {
     "data": {
      "image/png": "[encoded data removed]",
      "text/plain": [
       "<Figure size 288x288 with 1 Axes>"
      ]
     },
     "metadata": {
      "needs_background": "light"
     },
     "output_type": "display_data"
    },
    {
     "data": {
      "image/png": "[encoded data removed]",
      "text/plain": [
       "<Figure size 288x288 with 1 Axes>"
      ]
     },
     "metadata": {
      "needs_background": "light"
     },
     "output_type": "display_data"
    },
    {
     "data": {
      "image/png": "[encoded data removed]",
      "text/plain": [
       "<Figure size 288x288 with 1 Axes>"
      ]
     },
     "metadata": {
      "needs_background": "light"
     },
     "output_type": "display_data"
    },
    {
     "data": {
      "image/png": "[encoded data removed]",
      "text/plain": [
       "<Figure size 288x288 with 1 Axes>"
      ]
     },
     "metadata": {
      "needs_background": "light"
     },
     "output_type": "display_data"
    },
    {
     "data": {
      "image/png": "[encoded data removed]",
      "text/plain": [
       "<Figure size 288x288 with 1 Axes>"
      ]
     },
     "metadata": {
      "needs_background": "light"
     },
     "output_type": "display_data"
    },
    {
     "data": {
      "image/png": "[encoded data removed]",
      "text/plain": [
       "<Figure size 288x288 with 1 Axes>"
      ]
     },
     "metadata": {
      "needs_background": "light"
     },
     "output_type": "display_data"
    },
    {
     "data": {
      "image/png": "[encoded data removed]",
      "text/plain": [
       "<Figure size 288x288 with 1 Axes>"
      ]
     },
     "metadata": {
      "needs_background": "light"
     },
     "output_type": "display_data"
    },
    {
     "data": {
      "image/png": "[encoded data removed]",
      "text/plain": [
       "<Figure size 288x288 with 1 Axes>"
      ]
     },
     "metadata": {
      "needs_background": "light"
     },
     "output_type": "display_data"
    },
    {
     "data": {
      "image/png": "[encoded data removed]",
      "text/plain": [
       "<Figure size 288x288 with 1 Axes>"
      ]
     },
     "metadata": {
      "needs_background": "light"
     },
     "output_type": "display_data"
    },
    {
     "data": {
      "image/png": "[encoded data removed]",
      "text/plain": [
       "<Figure size 288x288 with 1 Axes>"
      ]
     },
     "metadata": {
      "needs_background": "light"
     },
     "output_type": "display_data"
    },
    {
     "data": {
      "image/png": "[encoded data removed]",
      "text/plain": [
       "<Figure size 288x288 with 1 Axes>"
      ]
     },
     "metadata": {
      "needs_background": "light"
     },
     "output_type": "display_data"
    },
    {
     "data": {
      "image/png": "[encoded data removed]",
      "text/plain": [
       "<Figure size 288x288 with 1 Axes>"
      ]
     },
     "metadata": {
      "needs_background": "light"
     },
     "output_type": "display_data"
    },
    {
     "data": {
      "image/png": "[encoded data removed]",
      "text/plain": [
       "<Figure size 288x288 with 1 Axes>"
      ]
     },
     "metadata": {
      "needs_background": "light"
     },
     "output_type": "display_data"
    },
    {
     "data": {
      "image/png": "[encoded data removed]",
      "text/plain": [
       "<Figure size 288x288 with 1 Axes>"
      ]
     },
     "metadata": {
      "needs_background": "light"
     },
     "output_type": "display_data"
    },
    {
     "data": {
      "image/png": "[encoded data removed]",
      "text/plain": [
       "<Figure size 288x288 with 1 Axes>"
      ]
     },
     "metadata": {
      "needs_background": "light"
     },
     "output_type": "display_data"
    },
    {
     "data": {
      "image/png": "[encoded data removed]",
      "text/plain": [
       "<Figure size 288x288 with 1 Axes>"
      ]
     },
     "metadata": {
      "needs_background": "light"
     },
     "output_type": "display_data"
    },
    {
     "data": {
      "image/png": "[encoded data removed]",
      "text/plain": [
       "<Figure size 288x288 with 1 Axes>"
      ]
     },
     "metadata": {
      "needs_background": "light"
     },
     "output_type": "display_data"
    },
    {
     "data": {
      "image/png": "[encoded data removed]",
      "text/plain": [
       "<Figure size 288x288 with 1 Axes>"
      ]
     },
     "metadata": {
      "needs_background": "light"
     },
     "output_type": "display_data"
    }
   ],
   "source": [
    "cols=data_copy.columns\n",
    "for i in cols:\n",
    "    fig=plt.figure(figsize=(4,4))\n",
    "    sns.distplot(data_v_scaled[i],kde=False)"
   ]
  },
  {
   "cell_type": "markdown",
   "metadata": {},
   "source": [
    "* Radius mean is bigger in malignant and more common for people who have become diagnosed malignancy. thresh value=15\n",
    "* texturemean 18\n",
    "* perimeter 90\n",
    "* area_mean 650\n",
    "* smoothness mean similar values- 0.9\n",
    "* compactness 0.9\n",
    "* concavity mean 0.1\n",
    "* concave points_mean 0.5\n",
    "* symmetry mean 0.17\n",
    "* fractional_dimension_mean are very similar\n",
    "* radius_se-0.4\n",
    "* texture_se looks the same 1.2\n",
    "* perimeter_se 4\n",
    "* area_se <30 is 1\n",
    "* smoothness_se looks similar 0.006\n",
    "* compactness_se 0.02\n",
    "* concavity_se 0.03\n",
    "* concave_points 0.012\n",
    "* symmetry_se looks similar as well 0.16> then it is 1\n",
    "* fractional_dimension_se 0.003\n",
    "* radius_worst 16\n",
    "* texture_worst 26\n",
    "* perimeter_worst 100\n",
    "* area_worst 900\n",
    "* smoothness_worst 0.135\n",
    "* compactness_worst 0.25\n",
    "* concavity_worst 0.27\n",
    "* concave_points_worst 0.12\n",
    "* symmetry_worst 0.3\n",
    "* fractional_dimension_worst similar 0.9"
   ]
  },
  {
   "cell_type": "code",
   "execution_count": 107,
   "metadata": {},
   "outputs": [],
   "source": [
    "data_copy_1=data_copy.copy()"
   ]
  },
  {
   "cell_type": "code",
   "execution_count": 121,
   "metadata": {},
   "outputs": [],
   "source": [
    "data_copy_1['radius_mean']=np.where(data_copy_1['radius_mean']>15,1,0)\n",
    "data_copy_1['texture_mean']=np.where(data_copy_1['texture_mean']>18,1,0)\n",
    "data_copy_1['perimeter_mean']=np.where(data_copy_1['perimeter_mean']>90,1,0)\n",
    "data_copy_1['area_mean']=np.where(data_copy_1['area_mean']>650,1,0)\n",
    "data_copy_1['smoothness_mean']=np.where(data_copy_1['smoothness_mean']>15,1,0)\n",
    "data_copy_1['compactness_mean']=np.where(data_copy_1['compactness_mean']>0.9,1,0)\n",
    "data_copy_1['concavity_mean']=np.where(data_copy_1['concavity_mean']>0.1,1,0)\n",
    "data_copy_1['concave points_mean']=np.where(data_copy_1['concave points_mean']>0.5,1,0)\n",
    "data_copy_1['symmetry_mean']=np.where(data_copy_1['symmetry_mean']>0.17,1,0)\n",
    "data_copy_1['fractal_dimension_mean']=np.where(data_copy_1['fractal_dimension_mean']>0.61,1,0)\n",
    "\n",
    "data_copy_1['radius_se']=np.where(data_copy_1['radius_se']>0.4,1,0)\n",
    "data_copy_1['texture_se']=np.where(data_copy_1['texture_se']>1.2,1,0)\n",
    "data_copy_1['perimeter_se']=np.where(data_copy_1['perimeter_se']>4,1,0)\n",
    "data_copy_1['area_se']=np.where(data_copy_1['area_se']<30,1,0)\n",
    "data_copy_1['smoothness_se']=np.where(data_copy_1['smoothness_se']>0.006,1,0)\n",
    "data_copy_1['compactness_se']=np.where(data_copy_1['compactness_se']>0.02,1,0)\n",
    "data_copy_1['concavity_se']=np.where(data_copy_1['concavity_se']>0.02,1,0)\n",
    "data_copy_1['concave points_se']=np.where(data_copy_1['concave points_se']>0.012,1,0)\n",
    "data_copy_1['symmetry_se']=np.where(data_copy_1['symmetry_se']<0.16,1,0)\n",
    "data_copy_1['fractal_dimension_se']=np.where(data_copy_1['fractal_dimension_se']>0.003,1,0)\n",
    "\n",
    "data_copy_1['radius_worst']=np.where(data_copy_1['radius_worst']>16,1,0)\n",
    "data_copy_1['texture_worst']=np.where(data_copy_1['texture_worst']>26,1,0)\n",
    "data_copy_1['perimeter_worst']=np.where(data_copy_1['perimeter_worst']>100,1,0)\n",
    "data_copy_1['area_worst']=np.where(data_copy_1['area_worst']>900,1,0)\n",
    "data_copy_1['smoothness_worst']=np.where(data_copy_1['smoothness_worst']>0.135,1,0)\n",
    "data_copy_1['compactness_worst']=np.where(data_copy_1['compactness_worst']>0.25,1,0)\n",
    "data_copy_1['concavity_worst']=np.where(data_copy_1['concavity_worst']>0.27,1,0)\n",
    "data_copy_1['concave points_worst']=np.where(data_copy_1['concave points_worst']>0.12,1,0)\n",
    "data_copy_1['symmetry_worst']=np.where(data_copy_1['symmetry_worst']>0.3,1,0)\n",
    "data_copy_1['fractal_dimension_worst']=np.where(data_copy_1['fractal_dimension_worst']>0.9,1,0)"
   ]
  },
  {
   "cell_type": "code",
   "execution_count": 155,
   "metadata": {},
   "outputs": [],
   "source": [
    "cols=data_copy_1.columns\n",
    "total=569\n",
    "p=[]\n",
    "\n",
    "for h in cols:\n",
    "    count=0\n",
    "    for i in range(0,len(data_copy_1)):\n",
    "        if (data_copy_1[h][i]==1 and data_copy_1['diagnosis'][i]==1):\n",
    "            count=count+1\n",
    "        \n",
    "    err=(count/total)\n",
    "    p.append(err)\n",
    "\n",
    "#for i in cols:\n",
    "    # print(i,\"----------->\",p)\n",
    "    # print(\" \")"
   ]
  },
  {
   "cell_type": "markdown",
   "metadata": {},
   "source": [
    "#### For us to check the features which are good we can use Feature Selection methods"
   ]
  },
  {
   "cell_type": "code",
   "execution_count": 102,
   "metadata": {},
   "outputs": [
    {
     "name": "stdout",
     "output_type": "stream",
     "text": [
      "                      Specs          Score\n",
      "23               area_worst  112598.431564\n",
      "3                 area_mean   53991.655924\n",
      "13                  area_se    8758.504705\n",
      "22          perimeter_worst    3665.035416\n",
      "2            perimeter_mean    2011.102864\n",
      "20             radius_worst     491.689157\n",
      "0               radius_mean     266.104917\n",
      "12             perimeter_se     250.571896\n",
      "21            texture_worst     174.449400\n",
      "1              texture_mean      93.897508\n",
      "26          concavity_worst      39.516915\n",
      "10                radius_se      34.675247\n",
      "6            concavity_mean      19.712354\n",
      "25        compactness_worst      19.314922\n",
      "27     concave points_worst      13.485419\n",
      "7       concave points_mean      10.544035\n",
      "5          compactness_mean       5.403075\n",
      "28           symmetry_worst       1.298861\n",
      "16             concavity_se       1.044718\n",
      "15           compactness_se       0.613785\n",
      "24         smoothness_worst       0.397366\n",
      "17        concave points_se       0.305232\n",
      "8             symmetry_mean       0.257380\n",
      "29  fractal_dimension_worst       0.231522\n",
      "4           smoothness_mean       0.149899\n",
      "11               texture_se       0.009794\n",
      "19     fractal_dimension_se       0.006371\n",
      "14            smoothness_se       0.003266\n",
      "18              symmetry_se       0.000080\n",
      "9    fractal_dimension_mean       0.000074\n"
     ]
    }
   ],
   "source": [
    "from sklearn.feature_selection import SelectKBest\n",
    "from sklearn.feature_selection import chi2\n",
    "fts = SelectKBest(score_func=chi2, k='all')\n",
    "X=data_copy.drop('diagnosis',axis=1)\n",
    "y=data_copy['diagnosis']\n",
    "feats = fts.fit(X,y)\n",
    "score = pd.DataFrame(feats.scores_)\n",
    "columnsx = pd.DataFrame(X.columns)\n",
    "features = pd.concat([columnsx,score],axis=1)\n",
    "features.columns = ['Specs','Score']  \n",
    "print(features.nlargest(32,'Score'))"
   ]
  },
  {
   "cell_type": "code",
   "execution_count": 129,
   "metadata": {},
   "outputs": [],
   "source": [
    "data_copy_1=pd.get_dummies(data_copy_1)"
   ]
  },
  {
   "cell_type": "code",
   "execution_count": 130,
   "metadata": {},
   "outputs": [],
   "source": [
    "new_train_data=data_copy_1.sample(frac=1).reset_index(drop=True)"
   ]
  },
  {
   "cell_type": "code",
   "execution_count": 131,
   "metadata": {},
   "outputs": [],
   "source": [
    "x=new_train_data.drop('diagnosis',axis=1)\n",
    "y=new_train_data['diagnosis']"
   ]
  },
  {
   "cell_type": "code",
   "execution_count": 132,
   "metadata": {},
   "outputs": [],
   "source": [
    "from sklearn.model_selection import train_test_split as tts\n",
    "tr_x,ts_x,tr_y,ts_y=tts(x,y,random_state=100,test_size=0.3,stratify=y)"
   ]
  },
  {
   "cell_type": "code",
   "execution_count": 133,
   "metadata": {},
   "outputs": [],
   "source": [
    "tr_column=tr_x.columns"
   ]
  },
  {
   "cell_type": "code",
   "execution_count": 137,
   "metadata": {},
   "outputs": [],
   "source": [
    "from sklearn.neighbors import KNeighborsClassifier\n",
    "from sklearn.metrics import confusion_matrix\n",
    "from sklearn.metrics import accuracy_score\n",
    "from sklearn.metrics import f1_score"
   ]
  },
  {
   "cell_type": "code",
   "execution_count": 139,
   "metadata": {},
   "outputs": [
    {
     "data": {
      "text/plain": [
       "KNeighborsClassifier(algorithm='auto', leaf_size=30, metric='minkowski',\n",
       "                     metric_params=None, n_jobs=None, n_neighbors=1, p=2,\n",
       "                     weights='uniform')"
      ]
     },
     "execution_count": 139,
     "metadata": {},
     "output_type": "execute_result"
    }
   ],
   "source": [
    "cls=KNeighborsClassifier(n_neighbors=1)\n",
    "cls.fit(tr_x,tr_y)\n"
   ]
  },
  {
   "cell_type": "code",
   "execution_count": 141,
   "metadata": {},
   "outputs": [],
   "source": [
    "ks=cls.predict(ts_x)"
   ]
  },
  {
   "cell_type": "code",
   "execution_count": 143,
   "metadata": {},
   "outputs": [
    {
     "data": {
      "text/plain": [
       "0.8888888888888888"
      ]
     },
     "execution_count": 143,
     "metadata": {},
     "output_type": "execute_result"
    }
   ],
   "source": [
    "g=accuracy_score(ts_y,ks)\n",
    "g"
   ]
  },
  {
   "cell_type": "code",
   "execution_count": 144,
   "metadata": {},
   "outputs": [
    {
     "data": {
      "text/plain": [
       "0.8592592592592593"
      ]
     },
     "execution_count": 144,
     "metadata": {},
     "output_type": "execute_result"
    }
   ],
   "source": [
    "o=f1_score(ts_y,ks)\n",
    "o"
   ]
  },
  {
   "cell_type": "code",
   "execution_count": 145,
   "metadata": {},
   "outputs": [
    {
     "data": {
      "text/plain": [
       "KNeighborsClassifier(algorithm='auto', leaf_size=30, metric='minkowski',\n",
       "                     metric_params=None, n_jobs=None, n_neighbors=3, p=2,\n",
       "                     weights='uniform')"
      ]
     },
     "execution_count": 145,
     "metadata": {},
     "output_type": "execute_result"
    }
   ],
   "source": [
    "cls=KNeighborsClassifier(n_neighbors=3)\n",
    "cls.fit(tr_x,tr_y)\n"
   ]
  },
  {
   "cell_type": "code",
   "execution_count": 146,
   "metadata": {},
   "outputs": [],
   "source": [
    "ks1=cls.predict(ts_x)"
   ]
  },
  {
   "cell_type": "code",
   "execution_count": 147,
   "metadata": {},
   "outputs": [
    {
     "data": {
      "text/plain": [
       "0.9239766081871345"
      ]
     },
     "execution_count": 147,
     "metadata": {},
     "output_type": "execute_result"
    }
   ],
   "source": [
    "g=accuracy_score(ts_y,ks1)\n",
    "g"
   ]
  },
  {
   "cell_type": "code",
   "execution_count": 148,
   "metadata": {},
   "outputs": [],
   "source": [
    "o=f1_score(ts_y,ks1)"
   ]
  },
  {
   "cell_type": "code",
   "execution_count": 149,
   "metadata": {},
   "outputs": [
    {
     "data": {
      "text/plain": [
       "0.8943089430894309"
      ]
     },
     "execution_count": 149,
     "metadata": {},
     "output_type": "execute_result"
    }
   ],
   "source": [
    "o"
   ]
  },
  {
   "cell_type": "code",
   "execution_count": 152,
   "metadata": {},
   "outputs": [
    {
     "name": "stdout",
     "output_type": "stream",
     "text": [
      "0.9298245614035088\n"
     ]
    },
    {
     "name": "stderr",
     "output_type": "stream",
     "text": [
      "C:\\Users\\Ajay\\Anaconda3\\lib\\site-packages\\sklearn\\discriminant_analysis.py:388: UserWarning: Variables are collinear.\n",
      "  warnings.warn(\"Variables are collinear.\")\n"
     ]
    }
   ],
   "source": [
    "from sklearn.discriminant_analysis import LinearDiscriminantAnalysis as LDA\n",
    "model = LDA(solver='svd')\n",
    "\n",
    "model.fit(tr_x, tr_y)\n",
    "\n",
    "pred = model.predict(ts_x)\n",
    "\n",
    "print(accuracy_score(ts_y, pred))"
   ]
  },
  {
   "cell_type": "code",
   "execution_count": 153,
   "metadata": {},
   "outputs": [
    {
     "name": "stdout",
     "output_type": "stream",
     "text": [
      "0.9047619047619047\n"
     ]
    }
   ],
   "source": [
    "print(f1_score(ts_y,pred))"
   ]
  },
  {
   "cell_type": "code",
   "execution_count": null,
   "metadata": {},
   "outputs": [],
   "source": []
  }
 ],
 "metadata": {
  "kernelspec": {
   "display_name": "Python 3",
   "language": "python",
   "name": "python3"
  },
  "language_info": {
   "codemirror_mode": {
    "name": "ipython",
    "version": 3
   },
   "file_extension": ".py",
   "mimetype": "text/x-python",
   "name": "python",
   "nbconvert_exporter": "python",
   "pygments_lexer": "ipython3",
   "version": "3.7.4"
  }
 },
 "nbformat": 4,
 "nbformat_minor": 2
}
